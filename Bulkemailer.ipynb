{
 "cells": [
  {
   "cell_type": "code",
   "execution_count": null,
   "metadata": {},
   "outputs": [],
   "source": [
    "#Importing all Required libraries\n",
    "from __future__ import print_function\n",
    "import pickle\n",
    "import os.path\n",
    "from googleapiclient.discovery import build\n",
    "from google_auth_oauthlib.flow import InstalledAppFlow\n",
    "from google.auth.transport.requests import Request\n",
    "from smtplib import SMTP"
   ]
  },
  {
   "cell_type": "code",
   "execution_count": null,
   "metadata": {},
   "outputs": [],
   "source": [
    "'''\n",
    "#Pip Commands to install dependencies..\n",
    "pip install --upgrade google-api-python-client google-auth-httplib2 \n",
    "pip install secure-smtplib\n",
    "pip install google-auth-oauthlib python-google-spreadsheet\n",
    "pip install smtplib\n",
    "pip install PyAutoGUI\n",
    "pip install selenium\n",
    "'''"
   ]
  },
  {
   "cell_type": "markdown",
   "metadata": {},
   "source": [
    "##### Type in your Text Message, Email Id and Password respectively."
   ]
  },
  {
   "cell_type": "code",
   "execution_count": null,
   "metadata": {},
   "outputs": [],
   "source": [
    "#Message to be sent (Without Salutation)\n",
    "emessage=\", \\n This a sample message to be sent \\n\\n Thanking you,\\n Sender's Name and Contact Info\""
   ]
  },
  {
   "cell_type": "code",
   "execution_count": null,
   "metadata": {},
   "outputs": [],
   "source": [
    "# Sender's Email ID and Password\n",
    "email_id=\"typeinyouremailidhere\"\n",
    "password=\"typeinyourownpassword\""
   ]
  },
  {
   "cell_type": "markdown",
   "metadata": {},
   "source": [
    "##### You can either import the email IDs list from google sheets or enter it on your own as given below:"
   ]
  },
  {
   "cell_type": "code",
   "execution_count": null,
   "metadata": {},
   "outputs": [],
   "source": [
    "# For Example if Link is : https://docs.google.com/spreadsheets/d/1PC7I2VJU5C4kSIrPrwvwm1YqiRc5uMZgD2cONzmVKgk/edit#gid=783739557\n",
    "#Then the Spreadsheet Id is the code that comes after 'https://docs.google.com/spreadsheets/d/' and before '/edit' or the next backslash\n",
    "# The ID and range of a sample spreadsheet.\n",
    "SAMPLE_SPREADSHEET_ID = \"1PC7I2VJU5C4kSIrPrwvwm1YqiRc5uMZgD2cONzmVKgk\"\n",
    "SAMPLE_RANGE_NAME = 'B1501:B2000'\n",
    "\n",
    "'''\n",
    "#Email List\n",
    "li= [\"Email_ID1\",\"Email_ID2\",\"Email_ID3\"]\n",
    "\n",
    "email_list=[]\n",
    "for i in li:\n",
    "    email_list.append(i)\n",
    "'''"
   ]
  },
  {
   "cell_type": "code",
   "execution_count": null,
   "metadata": {},
   "outputs": [],
   "source": [
    "#Imports email list from google sheets  and prints down the entire list\n",
    "def main():\n",
    "    \"\"\"Shows basic usage of the Sheets API.\n",
    "    Prints values from a sample spreadsheet.\n",
    "    \"\"\"\n",
    "    \n",
    "    creds = None\n",
    "    # The file token.pickle stores the user's access and refresh tokens, and is\n",
    "    # created automatically when the authorization flow completes for the first\n",
    "    # time.\n",
    "    if os.path.exists('token.pickle'):\n",
    "        with open('token.pickle', 'rb') as token:\n",
    "            creds = pickle.load(token)\n",
    "    # If there are no (valid) credentials available, let the user log in.\n",
    "    if not creds or not creds.valid:\n",
    "        if creds and creds.expired and creds.refresh_token:\n",
    "            creds.refresh(Request())\n",
    "        else:\n",
    "            flow = InstalledAppFlow.from_client_secrets_file(\n",
    "                'credentials.json', SCOPES)\n",
    "            creds = flow.run_local_server(port=0)\n",
    "        # Save the credentials for the next run\n",
    "        with open('token.pickle', 'wb') as token:\n",
    "            pickle.dump(creds, token)\n",
    "\n",
    "    service = build('sheets', 'v4', credentials=creds)\n",
    "\n",
    "    # Call the Sheets API\n",
    "    sheet = service.spreadsheets()\n",
    "    result = sheet.values().get(spreadsheetId=SAMPLE_SPREADSHEET_ID,\n",
    "                                range=SAMPLE_RANGE_NAME).execute()\n",
    "    values = result.get('values', [])\n",
    "    li=[]\n",
    "    if not values:\n",
    "        print('No data found.')\n",
    "    else:\n",
    "        #print('Name, Number:')\n",
    "        for row in values:\n",
    "            # Print column B, which correspond to index 1.\n",
    "            print('%s' % row[0])\n",
    "            li.append(row[0])\n",
    "    return li;        \n",
    "\n",
    "if __name__ == '__main__':\n",
    "    email_list=main()\n",
    "    for li in email_list:\n",
    "        print(li+\"\\n\")"
   ]
  },
  {
   "cell_type": "code",
   "execution_count": null,
   "metadata": {},
   "outputs": [],
   "source": [
    "#The number of emails to be sent\n",
    "len(email_list)"
   ]
  },
  {
   "cell_type": "code",
   "execution_count": null,
   "metadata": {},
   "outputs": [],
   "source": [
    "#Sends the Mail to all the recipient in the list of email Ids\n",
    "for i in email_list:\n",
    "    s=SMTP(\"smtp.gmail.com\",587)\n",
    "    s.starttls()\n",
    "    s.login(email_id,password )\n",
    "    message = \"\\nDear \"+ i +emessage\n",
    "    s.sendmail(email_id, i, message)\n",
    "    print(i)\n",
    "    s.quit() "
   ]
  }
 ],
 "metadata": {
  "kernelspec": {
   "display_name": "Python 3",
   "language": "python",
   "name": "python3"
  },
  "language_info": {
   "codemirror_mode": {
    "name": "ipython",
    "version": 3
   },
   "file_extension": ".py",
   "mimetype": "text/x-python",
   "name": "python",
   "nbconvert_exporter": "python",
   "pygments_lexer": "ipython3",
   "version": "3.8.3"
  }
 },
 "nbformat": 4,
 "nbformat_minor": 4
}
